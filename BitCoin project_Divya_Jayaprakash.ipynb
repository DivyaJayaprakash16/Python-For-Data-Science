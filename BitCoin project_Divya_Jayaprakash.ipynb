{
 "cells": [
  {
   "cell_type": "markdown",
   "metadata": {},
   "source": [
    "# Bitcoin Market Price Prediction\n",
    "## Divya Jayaprakash"
   ]
  },
  {
   "cell_type": "markdown",
   "metadata": {},
   "source": [
    "Start by importing all the libraries and the training and test datasets. "
   ]
  },
  {
   "cell_type": "code",
   "execution_count": 1,
   "metadata": {
    "collapsed": true
   },
   "outputs": [],
   "source": [
    "%matplotlib inline\n",
    "import pandas as pd\n",
    "import matplotlib.pyplot as plt\n",
    "import numpy as np\n",
    "import seaborn as sns\n",
    "\n",
    "from sklearn.preprocessing import MinMaxScaler, PolynomialFeatures\n",
    "from sklearn.model_selection import train_test_split\n",
    "from sklearn.neighbors import KNeighborsRegressor\n",
    "from sklearn.linear_model import LinearRegression, Ridge, Lasso\n",
    "from sklearn.svm import SVR\n",
    "from sklearn.model_selection import cross_val_score, validation_curve, StratifiedKFold, GridSearchCV\n",
    "\n",
    "data = pd.read_csv('bitcoin_dataset.csv')\n",
    "test = pd.read_csv('test_set.csv')"
   ]
  },
  {
   "cell_type": "code",
   "execution_count": 2,
   "metadata": {
    "scrolled": true
   },
   "outputs": [
    {
     "name": "stdout",
     "output_type": "stream",
     "text": [
      "Index(['Date', 'btc_market_price', 'btc_total_bitcoins', 'btc_market_cap',\n",
      "       'btc_trade_volume', 'btc_blocks_size', 'btc_avg_block_size',\n",
      "       'btc_n_orphaned_blocks', 'btc_n_transactions_per_block',\n",
      "       'btc_median_confirmation_time', 'btc_hash_rate', 'btc_difficulty',\n",
      "       'btc_miners_revenue', 'btc_transaction_fees',\n",
      "       'btc_cost_per_transaction_percent', 'btc_cost_per_transaction',\n",
      "       'btc_n_unique_addresses', 'btc_n_transactions',\n",
      "       'btc_n_transactions_total', 'btc_n_transactions_excluding_popular',\n",
      "       'btc_n_transactions_excluding_chains_longer_than_100',\n",
      "       'btc_output_volume', 'btc_estimated_transaction_volume',\n",
      "       'btc_estimated_transaction_volume_usd'],\n",
      "      dtype='object')\n",
      "Index(['Date', 'btc_total_bitcoins', 'btc_market_cap', 'btc_trade_volume',\n",
      "       'btc_blocks_size', 'btc_avg_block_size', 'btc_n_orphaned_blocks',\n",
      "       'btc_n_transactions_per_block', 'btc_median_confirmation_time',\n",
      "       'btc_hash_rate', 'btc_difficulty', 'btc_miners_revenue',\n",
      "       'btc_transaction_fees', 'btc_cost_per_transaction_percent',\n",
      "       'btc_cost_per_transaction', 'btc_n_unique_addresses',\n",
      "       'btc_n_transactions', 'btc_n_transactions_total',\n",
      "       'btc_n_transactions_excluding_popular',\n",
      "       'btc_n_transactions_excluding_chains_longer_than_100',\n",
      "       'btc_output_volume', 'btc_estimated_transaction_volume',\n",
      "       'btc_estimated_transaction_volume_usd'],\n",
      "      dtype='object')\n"
     ]
    }
   ],
   "source": [
    "print(data.columns)\n",
    "print(test.columns)"
   ]
  },
  {
   "cell_type": "markdown",
   "metadata": {},
   "source": [
    "## Data Cleaning and Imputation"
   ]
  },
  {
   "cell_type": "markdown",
   "metadata": {},
   "source": [
    "The next cell renames all the columns other than the date column"
   ]
  },
  {
   "cell_type": "code",
   "execution_count": 3,
   "metadata": {
    "collapsed": true
   },
   "outputs": [],
   "source": [
    "for col in data.columns[1:]:\n",
    "    data.rename(columns={col:col[4:]}, inplace = True)\n",
    "\n",
    "for col in test.columns[1:]:\n",
    "    test.rename(columns={col:col[4:]}, inplace=True)"
   ]
  },
  {
   "cell_type": "code",
   "execution_count": 4,
   "metadata": {},
   "outputs": [
    {
     "name": "stdout",
     "output_type": "stream",
     "text": [
      "Index(['Date', 'market_price', 'total_bitcoins', 'market_cap', 'trade_volume',\n",
      "       'blocks_size', 'avg_block_size', 'n_orphaned_blocks',\n",
      "       'n_transactions_per_block', 'median_confirmation_time', 'hash_rate',\n",
      "       'difficulty', 'miners_revenue', 'transaction_fees',\n",
      "       'cost_per_transaction_percent', 'cost_per_transaction',\n",
      "       'n_unique_addresses', 'n_transactions', 'n_transactions_total',\n",
      "       'n_transactions_excluding_popular',\n",
      "       'n_transactions_excluding_chains_longer_than_100', 'output_volume',\n",
      "       'estimated_transaction_volume', 'estimated_transaction_volume_usd'],\n",
      "      dtype='object')\n",
      "Index(['Date', 'total_bitcoins', 'market_cap', 'trade_volume', 'blocks_size',\n",
      "       'avg_block_size', 'n_orphaned_blocks', 'n_transactions_per_block',\n",
      "       'median_confirmation_time', 'hash_rate', 'difficulty', 'miners_revenue',\n",
      "       'transaction_fees', 'cost_per_transaction_percent',\n",
      "       'cost_per_transaction', 'n_unique_addresses', 'n_transactions',\n",
      "       'n_transactions_total', 'n_transactions_excluding_popular',\n",
      "       'n_transactions_excluding_chains_longer_than_100', 'output_volume',\n",
      "       'estimated_transaction_volume', 'estimated_transaction_volume_usd'],\n",
      "      dtype='object')\n"
     ]
    }
   ],
   "source": [
    "print(data.columns)\n",
    "print(test.columns)"
   ]
  },
  {
   "cell_type": "markdown",
   "metadata": {},
   "source": [
    "Set the index to date. This can be used to plot according to time and use for imputation."
   ]
  },
  {
   "cell_type": "code",
   "execution_count": 5,
   "metadata": {
    "collapsed": true
   },
   "outputs": [],
   "source": [
    "data.head()\n",
    "data[\"Date\"] = pd.to_datetime(data[\"Date\"])\n",
    "test[\"Date\"] = pd.to_datetime(test[\"Date\"])\n",
    "data = data.set_index(\"Date\")\n",
    "test = test.set_index(\"Date\")"
   ]
  },
  {
   "cell_type": "markdown",
   "metadata": {},
   "source": [
    "Check the percentage of missing values in the training data and the test data"
   ]
  },
  {
   "cell_type": "code",
   "execution_count": 6,
   "metadata": {},
   "outputs": [
    {
     "name": "stdout",
     "output_type": "stream",
     "text": [
      "3.9573296627666896\n",
      "0.0\n"
     ]
    }
   ],
   "source": [
    "print(100*data.isnull().sum().sum() / data.shape[0]) #4% overall nulls in train\n",
    "print(100*test.isnull().sum().sum() / test.shape[0]) #0% here"
   ]
  },
  {
   "cell_type": "markdown",
   "metadata": {},
   "source": [
    "Print the percentage of missing values in each column"
   ]
  },
  {
   "cell_type": "code",
   "execution_count": 7,
   "metadata": {},
   "outputs": [
    {
     "name": "stdout",
     "output_type": "stream",
     "text": [
      "market_price                                       0.000000\n",
      "total_bitcoins                                     0.929112\n",
      "market_cap                                         0.000000\n",
      "trade_volume                                       0.722643\n",
      "blocks_size                                        0.997935\n",
      "avg_block_size                                     0.000000\n",
      "n_orphaned_blocks                                  0.000000\n",
      "n_transactions_per_block                           0.000000\n",
      "median_confirmation_time                           0.412939\n",
      "hash_rate                                          0.000000\n",
      "difficulty                                         0.550585\n",
      "miners_revenue                                     0.000000\n",
      "transaction_fees                                   0.344116\n",
      "cost_per_transaction_percent                       0.000000\n",
      "cost_per_transaction                               0.000000\n",
      "n_unique_addresses                                 0.000000\n",
      "n_transactions                                     0.000000\n",
      "n_transactions_total                               0.000000\n",
      "n_transactions_excluding_popular                   0.000000\n",
      "n_transactions_excluding_chains_longer_than_100    0.000000\n",
      "output_volume                                      0.000000\n",
      "estimated_transaction_volume                       0.000000\n",
      "estimated_transaction_volume_usd                   0.000000\n",
      "dtype: float64\n"
     ]
    }
   ],
   "source": [
    "print(100*data.isnull().sum() / data.shape[0]) "
   ]
  },
  {
   "cell_type": "markdown",
   "metadata": {},
   "source": [
    "Plot the missing values columns to see the trend(or pattern) to decide on how to impute"
   ]
  },
  {
   "cell_type": "code",
   "execution_count": 8,
   "metadata": {},
   "outputs": [
    {
     "data": {
      "text/plain": [
       "<matplotlib.legend.Legend at 0x10dc54358>"
      ]
     },
     "execution_count": 8,
     "metadata": {},
     "output_type": "execute_result"
    },
    {
     "data": {
      "image/png": "[encoded data removed]",
      "text/plain": [
       "<matplotlib.figure.Figure at 0x10dc54550>"
      ]
     },
     "metadata": {},
     "output_type": "display_data"
    }
   ],
   "source": [
    "sns.set_style(\"white\")\n",
    "data[[\"total_bitcoins\",\"trade_volume\",\"blocks_size\",\n",
    "      \"median_confirmation_time\", \"difficulty\",\"transaction_fees\"]].plot(subplots=True, figsize=(15, 15)); plt.legend(loc='best')"
   ]
  },
  {
   "cell_type": "markdown",
   "metadata": {},
   "source": [
    "The ColsToImpute below has features with mostly a linear trend near the missing values. So, we are using a linear interpolation method with time to impute them. <br>\n",
    "After this, only the median_confirmation_time column will have missing values and it is reasonable to fill them using the mean value because it has most of it's values 0 and 47 with mean around 7.5"
   ]
  },
  {
   "cell_type": "code",
   "execution_count": 9,
   "metadata": {
    "collapsed": true
   },
   "outputs": [],
   "source": [
    "ColsToImpute = [\"total_bitcoins\",\"trade_volume\",\"blocks_size\",\"difficulty\",\"transaction_fees\"]\n",
    "data[ColsToImpute] = data[ColsToImpute].interpolate(method=\"time\")\n",
    "data = data.fillna(data.mean())"
   ]
  },
  {
   "cell_type": "markdown",
   "metadata": {
    "collapsed": true
   },
   "source": [
    "Now, we don't require the date column so reset the index and remove the date column"
   ]
  },
  {
   "cell_type": "code",
   "execution_count": 10,
   "metadata": {},
   "outputs": [
    {
     "name": "stdout",
     "output_type": "stream",
     "text": [
      "Index(['market_price', 'total_bitcoins', 'market_cap', 'trade_volume',\n",
      "       'blocks_size', 'avg_block_size', 'n_orphaned_blocks',\n",
      "       'n_transactions_per_block', 'median_confirmation_time', 'hash_rate',\n",
      "       'difficulty', 'miners_revenue', 'transaction_fees',\n",
      "       'cost_per_transaction_percent', 'cost_per_transaction',\n",
      "       'n_unique_addresses', 'n_transactions', 'n_transactions_total',\n",
      "       'n_transactions_excluding_popular',\n",
      "       'n_transactions_excluding_chains_longer_than_100', 'output_volume',\n",
      "       'estimated_transaction_volume', 'estimated_transaction_volume_usd'],\n",
      "      dtype='object')\n",
      "Index(['total_bitcoins', 'market_cap', 'trade_volume', 'blocks_size',\n",
      "       'avg_block_size', 'n_orphaned_blocks', 'n_transactions_per_block',\n",
      "       'median_confirmation_time', 'hash_rate', 'difficulty', 'miners_revenue',\n",
      "       'transaction_fees', 'cost_per_transaction_percent',\n",
      "       'cost_per_transaction', 'n_unique_addresses', 'n_transactions',\n",
      "       'n_transactions_total', 'n_transactions_excluding_popular',\n",
      "       'n_transactions_excluding_chains_longer_than_100', 'output_volume',\n",
      "       'estimated_transaction_volume', 'estimated_transaction_volume_usd'],\n",
      "      dtype='object')\n"
     ]
    }
   ],
   "source": [
    "data = data.reset_index()\n",
    "test = test.reset_index()\n",
    "data = data.drop('Date', 1)\n",
    "test = test.drop('Date', 1)\n",
    "print(data.columns)\n",
    "print(test.columns)"
   ]
  },
  {
   "cell_type": "markdown",
   "metadata": {},
   "source": [
    "Split the \"data\" dataframe into dependent and independent variables"
   ]
  },
  {
   "cell_type": "code",
   "execution_count": 11,
   "metadata": {
    "collapsed": true
   },
   "outputs": [],
   "source": [
    "X_btc = data[data.columns[1:len(data.columns)]]\n",
    "y_btc = data['market_price']"
   ]
  },
  {
   "cell_type": "markdown",
   "metadata": {},
   "source": [
    "Split into training and test dataset"
   ]
  },
  {
   "cell_type": "code",
   "execution_count": 12,
   "metadata": {
    "collapsed": true
   },
   "outputs": [],
   "source": [
    "X_train, X_test, y_train, y_test = train_test_split(X_btc, y_btc, test_size=0.3, random_state=1)"
   ]
  },
  {
   "cell_type": "markdown",
   "metadata": {},
   "source": [
    "We are using scaled data to run most of our models for better computation and convergence"
   ]
  },
  {
   "cell_type": "code",
   "execution_count": 13,
   "metadata": {
    "collapsed": true
   },
   "outputs": [],
   "source": [
    "scaler = MinMaxScaler()\n",
    "X_train_scaled = scaler.fit_transform(X_train)\n",
    "X_test_scaled = scaler.transform(X_test)"
   ]
  },
  {
   "cell_type": "markdown",
   "metadata": {},
   "source": [
    "## Model Building"
   ]
  },
  {
   "cell_type": "markdown",
   "metadata": {},
   "source": [
    "### KNN Regressor"
   ]
  },
  {
   "cell_type": "markdown",
   "metadata": {},
   "source": [
    "Run the KNN Regressor for K from 1 to 19;\n",
    "For K = 2 we are getting the best test accuracy. So the train accuracy is 0.9979 and test accuracy is 0.9944 for KNN regressor."
   ]
  },
  {
   "cell_type": "code",
   "execution_count": 14,
   "metadata": {},
   "outputs": [
    {
     "name": "stdout",
     "output_type": "stream",
     "text": [
      "R-squared train score for 1 neighbors: 1.0000\n",
      "R-squared test score for 1 neighbors: 0.9953\n",
      "R-squared train score for 2 neighbors: 0.9984\n",
      "R-squared test score for 2 neighbors: 0.9956\n",
      "R-squared train score for 3 neighbors: 0.9975\n",
      "R-squared test score for 3 neighbors: 0.9951\n",
      "R-squared train score for 4 neighbors: 0.9969\n",
      "R-squared test score for 4 neighbors: 0.9941\n",
      "R-squared train score for 5 neighbors: 0.9964\n",
      "R-squared test score for 5 neighbors: 0.9940\n",
      "R-squared train score for 6 neighbors: 0.9958\n",
      "R-squared test score for 6 neighbors: 0.9937\n",
      "R-squared train score for 7 neighbors: 0.9955\n",
      "R-squared test score for 7 neighbors: 0.9932\n",
      "R-squared train score for 8 neighbors: 0.9950\n",
      "R-squared test score for 8 neighbors: 0.9931\n",
      "R-squared train score for 9 neighbors: 0.9942\n",
      "R-squared test score for 9 neighbors: 0.9925\n",
      "R-squared train score for 10 neighbors: 0.9938\n",
      "R-squared test score for 10 neighbors: 0.9925\n",
      "R-squared train score for 11 neighbors: 0.9934\n",
      "R-squared test score for 11 neighbors: 0.9918\n",
      "R-squared train score for 12 neighbors: 0.9929\n",
      "R-squared test score for 12 neighbors: 0.9916\n",
      "R-squared train score for 13 neighbors: 0.9921\n",
      "R-squared test score for 13 neighbors: 0.9914\n",
      "R-squared train score for 14 neighbors: 0.9918\n",
      "R-squared test score for 14 neighbors: 0.9913\n",
      "R-squared train score for 15 neighbors: 0.9917\n",
      "R-squared test score for 15 neighbors: 0.9910\n",
      "R-squared train score for 16 neighbors: 0.9916\n",
      "R-squared test score for 16 neighbors: 0.9911\n",
      "R-squared train score for 17 neighbors: 0.9910\n",
      "R-squared test score for 17 neighbors: 0.9907\n",
      "R-squared train score for 18 neighbors: 0.9904\n",
      "R-squared test score for 18 neighbors: 0.9902\n",
      "R-squared train score for 19 neighbors: 0.9902\n",
      "R-squared test score for 19 neighbors: 0.9899\n"
     ]
    }
   ],
   "source": [
    "for num_neighbors in range(1, 20):\n",
    "    knnreg = KNeighborsRegressor(n_neighbors = num_neighbors).fit(X_train_scaled, y_train)\n",
    "\n",
    "    #print(knnreg.predict(X_test_scaled))\n",
    "    print('R-squared train score for {} neighbors: {:.4f}'\n",
    "         .format(num_neighbors, knnreg.score(X_train_scaled, y_train)))\n",
    "    print('R-squared test score for {} neighbors: {:.4f}'\n",
    "         .format(num_neighbors, knnreg.score(X_test_scaled, y_test)))"
   ]
  },
  {
   "cell_type": "markdown",
   "metadata": {},
   "source": [
    "### Linear Regression"
   ]
  },
  {
   "cell_type": "markdown",
   "metadata": {},
   "source": [
    "Next, we used linear regression to predict the market price. The train accuracy is 0.999964 and test accuracy is 0.999936. As we can see that Linear Regression performs better we will not consider KNN for further analysis."
   ]
  },
  {
   "cell_type": "code",
   "execution_count": 15,
   "metadata": {
    "scrolled": true
   },
   "outputs": [
    {
     "name": "stdout",
     "output_type": "stream",
     "text": [
      "R-squared score (training): 0.999964\n",
      "R-squared score (test): 0.999936\n"
     ]
    }
   ],
   "source": [
    "linregscaled = LinearRegression().fit(X_train_scaled, y_train)\n",
    "\n",
    "print('R-squared score (training): {:.6f}'\n",
    "     .format(linregscaled.score(X_train_scaled, y_train)))\n",
    "print('R-squared score (test): {:.6f}'\n",
    "     .format(linregscaled.score(X_test_scaled, y_test)))"
   ]
  },
  {
   "cell_type": "markdown",
   "metadata": {},
   "source": [
    "### Ridge Regression"
   ]
  },
  {
   "cell_type": "markdown",
   "metadata": {},
   "source": [
    "Next, we try Ridge regression with different values of alpha. This seems to perform good with very low values of alpha."
   ]
  },
  {
   "cell_type": "code",
   "execution_count": 16,
   "metadata": {
    "scrolled": true
   },
   "outputs": [
    {
     "name": "stdout",
     "output_type": "stream",
     "text": [
      "Ridge regression: Trying different values of alpha\n",
      "Alpha = 0.0000000\n",
      "num abs(coeff) > 1.0: 21, r-squared training: 0.9999643, r-squared test: 0.9999359\n",
      "\n",
      "Alpha = 0.0010000\n",
      "num abs(coeff) > 1.0: 22, r-squared training: 0.9999639, r-squared test: 0.9999362\n",
      "\n",
      "Alpha = 0.0100000\n",
      "num abs(coeff) > 1.0: 22, r-squared training: 0.9999422, r-squared test: 0.9999156\n",
      "\n",
      "Alpha = 1.0000000\n",
      "num abs(coeff) > 1.0: 22, r-squared training: 0.9964708, r-squared test: 0.9961173\n",
      "\n",
      "Alpha = 10.0000000\n",
      "num abs(coeff) > 1.0: 22, r-squared training: 0.9825136, r-squared test: 0.9822755\n",
      "\n",
      "Alpha = 20.0000000\n",
      "num abs(coeff) > 1.0: 22, r-squared training: 0.9690109, r-squared test: 0.9687682\n",
      "\n",
      "Alpha = 50.0000000\n",
      "num abs(coeff) > 1.0: 19, r-squared training: 0.9240593, r-squared test: 0.9234065\n",
      "\n",
      "Alpha = 100.0000000\n",
      "num abs(coeff) > 1.0: 22, r-squared training: 0.8523003, r-squared test: 0.8506465\n",
      "\n",
      "Alpha = 1000.0000000\n",
      "num abs(coeff) > 1.0: 21, r-squared training: 0.4530536, r-squared test: 0.4612201\n",
      "\n"
     ]
    }
   ],
   "source": [
    "print('Ridge regression: Trying different values of alpha')\n",
    "for this_alpha in [0, 0.001, 0.01, 1, 10, 20, 50, 100, 1000]:\n",
    "    linRidge = Ridge(alpha=this_alpha).fit(X_train_scaled, y_train)\n",
    "    r2_train = linRidge.score(X_train_scaled, y_train)\n",
    "    r2_test = linRidge.score(X_test_scaled, y_test)\n",
    "    num_coeff_big = np.sum(abs(linRidge.coef_) > 1.0)\n",
    "    print('Alpha = {:.7f}\\nnum abs(coeff) > 1.0: {}, \\\n",
    "r-squared training: {:.7f}, r-squared test: {:.7f}\\n'\n",
    "         .format(this_alpha, num_coeff_big, r2_train, r2_test))"
   ]
  },
  {
   "cell_type": "markdown",
   "metadata": {},
   "source": [
    "### Lasso Regression"
   ]
  },
  {
   "cell_type": "markdown",
   "metadata": {},
   "source": [
    "Next, we try Lasso with alpha of 0.01 to start with and we can see that this does a pretty good job and gives similar result to Linear Regression."
   ]
  },
  {
   "cell_type": "code",
   "execution_count": 17,
   "metadata": {},
   "outputs": [
    {
     "name": "stdout",
     "output_type": "stream",
     "text": [
      "R-squared score (training): 0.9999400\n",
      "R-squared score (test): 0.9999034\n",
      "\n",
      "Features with non-zero weight (sorted by absolute magnitude):\n",
      "\tmarket_cap, 18875.661\n",
      "\thash_rate, -527.989\n",
      "\tcost_per_transaction, 489.360\n",
      "\tdifficulty, 314.060\n",
      "\tn_transactions_excluding_chains_longer_than_100, 200.712\n",
      "\testimated_transaction_volume_usd, 176.091\n",
      "\tminers_revenue, 136.160\n",
      "\tn_unique_addresses, 129.871\n",
      "\ttransaction_fees, -108.028\n",
      "\tn_transactions, -105.063\n",
      "\tn_transactions_per_block, -84.301\n",
      "\tavg_block_size, -73.552\n",
      "\tn_transactions_total, 61.680\n",
      "\tn_transactions_excluding_popular, 56.950\n",
      "\ttrade_volume, -39.029\n",
      "\tblocks_size, -36.146\n",
      "\tmedian_confirmation_time, 31.489\n",
      "\ttotal_bitcoins, 30.692\n",
      "\testimated_transaction_volume, -16.464\n",
      "\toutput_volume, -7.144\n",
      "\tcost_per_transaction_percent, 2.153\n",
      "\tn_orphaned_blocks, 1.687\n"
     ]
    }
   ],
   "source": [
    "linlasso = Lasso(alpha=0.01, max_iter=1000).fit(X_train_scaled, y_train)\n",
    "\n",
    "print('R-squared score (training): {:.7f}'\n",
    "     .format(linlasso.score(X_train_scaled, y_train)))\n",
    "print('R-squared score (test): {:.7f}\\n'\n",
    "     .format(linlasso.score(X_test_scaled, y_test)))\n",
    "print('Features with non-zero weight (sorted by absolute magnitude):')\n",
    "\n",
    "for e in sorted (list(zip(list(X_train), linlasso.coef_)),\n",
    "                key = lambda e: -abs(e[1])):\n",
    "    if e[1] != 0:\n",
    "        print('\\t{}, {:.3f}'.format(e[0], e[1]))"
   ]
  },
  {
   "cell_type": "markdown",
   "metadata": {},
   "source": [
    "Next, we try Lasso with different values of alpha to see the behaviour by varying alpha and when alpha is 0.01 it is performing the best on the test set."
   ]
  },
  {
   "cell_type": "code",
   "execution_count": 18,
   "metadata": {},
   "outputs": [
    {
     "name": "stdout",
     "output_type": "stream",
     "text": [
      "Trying Lasso for different values of alpha\n",
      "Alpha = 0.0001\n",
      "Features kept: 22\n",
      "r-squared training: 0.9999393, r-squared test: 0.9999019\n",
      "\n",
      "Alpha = 0.0010\n",
      "Features kept: 22\n",
      "r-squared training: 0.9999393, r-squared test: 0.9999021\n",
      "\n",
      "Alpha = 0.0100\n",
      "Features kept: 22\n",
      "r-squared training: 0.9999400, r-squared test: 0.9999034\n",
      "\n",
      "Alpha = 0.1000\n",
      "Features kept: 9\n",
      "r-squared training: 0.9999317, r-squared test: 0.9999013\n",
      "\n",
      "Alpha = 0.2000\n",
      "Features kept: 8\n",
      "r-squared training: 0.9999224, r-squared test: 0.9998946\n",
      "\n",
      "Alpha = 0.5000\n",
      "Features kept: 6\n",
      "r-squared training: 0.9999187, r-squared test: 0.9998895\n",
      "\n",
      "Alpha = 1.0000\n",
      "Features kept: 8\n",
      "r-squared training: 0.9999031, r-squared test: 0.9998701\n",
      "\n",
      "Alpha = 2.0000\n",
      "Features kept: 4\n",
      "r-squared training: 0.9998485, r-squared test: 0.9998136\n",
      "\n",
      "Alpha = 3.0000\n",
      "Features kept: 4\n",
      "r-squared training: 0.9997858, r-squared test: 0.9997442\n",
      "\n",
      "Alpha = 5.0000\n",
      "Features kept: 4\n",
      "r-squared training: 0.9995783, r-squared test: 0.9995290\n",
      "\n",
      "Alpha = 10.0000\n",
      "Features kept: 4\n",
      "r-squared training: 0.9986030, r-squared test: 0.9985393\n",
      "\n"
     ]
    }
   ],
   "source": [
    "print('Trying Lasso for different values of alpha')\n",
    "\n",
    "for alpha in [0.0001, 0.001, 0.01, 0.1, 0.2, 0.5, 1, 2, 3, 5, 10]:\n",
    "    linLasso = Lasso(alpha, max_iter=10000).fit(X_train_scaled, y_train)\n",
    "    r2_train = linLasso.score(X_train_scaled, y_train)\n",
    "    r2_test = linLasso.score(X_test_scaled, y_test)\n",
    "    \n",
    "    print('Alpha = {:.4f}\\nFeatures kept: {}\\nr-squared training: {:.7f}, \\\n",
    "r-squared test: {:.7f}\\n'\n",
    "         .format(alpha, np.sum(linLasso.coef_ != 0), r2_train, r2_test))"
   ]
  },
  {
   "cell_type": "markdown",
   "metadata": {},
   "source": [
    "### Polynomial Regression"
   ]
  },
  {
   "cell_type": "markdown",
   "metadata": {},
   "source": [
    "Next, let us try polynomial regression because a lot of variables seamt to have a non-linear trend and kind of parabolic trend. As we can see in the result below, this is performing better than even linear regression with a better accuracy on both train and test set."
   ]
  },
  {
   "cell_type": "code",
   "execution_count": 19,
   "metadata": {},
   "outputs": [
    {
     "name": "stdout",
     "output_type": "stream",
     "text": [
      "(poly deg 2) R-squared score (training): 0.9999983\n",
      "(poly deg 2) R-squared score (test): 0.9999916\n",
      "\n"
     ]
    }
   ],
   "source": [
    "poly = PolynomialFeatures(degree=2)\n",
    "X_F1_poly = poly.fit_transform(X_btc)\n",
    "\n",
    "scaler = MinMaxScaler()\n",
    "X_poly_scaled = scaler.fit_transform(X_F1_poly)\n",
    "\n",
    "X_train, X_test, y_train, y_test = train_test_split(X_poly_scaled, y_btc, test_size = 0.3, random_state = 1)\n",
    "\n",
    "polyreg = LinearRegression().fit(X_train, y_train)\n",
    "\n",
    "print('(poly deg 2) R-squared score (training): {:.7f}'\n",
    "     .format(polyreg.score(X_train, y_train)))\n",
    "print('(poly deg 2) R-squared score (test): {:.7f}\\n'\n",
    "     .format(polyreg.score(X_test, y_test)))"
   ]
  },
  {
   "cell_type": "markdown",
   "metadata": {},
   "source": [
    "### Polynomial Regression with Ridge and Lasso"
   ]
  },
  {
   "cell_type": "markdown",
   "metadata": {},
   "source": [
    "Next, we run Ridge with polynomial with Ridge and after seeing the result of the cell below we can see that if does not perform that better on the test set. Let us try Lasso next"
   ]
  },
  {
   "cell_type": "code",
   "execution_count": 20,
   "metadata": {},
   "outputs": [
    {
     "name": "stdout",
     "output_type": "stream",
     "text": [
      "Polynomial Regression with Regularization\n",
      "(poly deg 2 + ridge) R-squared score (training): 0.9999209\n",
      "(poly deg 2 + ridge) R-squared score (test): 0.9998265\n",
      "(poly deg 2 + lasso) R-squared score (training): 0.9999890\n",
      "(poly deg 2 + lasso) R-squared score (test): 0.9999808\n"
     ]
    }
   ],
   "source": [
    "X_train, X_test, y_train, y_test = train_test_split(X_poly_scaled, y_btc, test_size = 0.3, random_state = 1)\n",
    "\n",
    "polyRidgeReg = Ridge(alpha = 0.1).fit(X_train, y_train)\n",
    "\n",
    "print('Polynomial Regression with Regularization')\n",
    "\n",
    "print('(poly deg 2 + ridge) R-squared score (training): {:.7f}'\n",
    "     .format(polyRidgeReg.score(X_train, y_train)))\n",
    "print('(poly deg 2 + ridge) R-squared score (test): {:.7f}'\n",
    "     .format(polyRidgeReg.score(X_test, y_test)))\n",
    "\n",
    "polyLassoReg = Lasso(alpha = 0.001).fit(X_train, y_train)\n",
    "\n",
    "print('(poly deg 2 + lasso) R-squared score (training): {:.7f}'\n",
    "     .format(polyLassoReg.score(X_train, y_train)))\n",
    "print('(poly deg 2 + lasso) R-squared score (test): {:.7f}'\n",
    "     .format(polyLassoReg.score(X_test, y_test)))\n"
   ]
  },
  {
   "cell_type": "markdown",
   "metadata": {},
   "source": [
    "## Evaluation"
   ]
  },
  {
   "cell_type": "markdown",
   "metadata": {},
   "source": [
    "### Cross Validation"
   ]
  },
  {
   "cell_type": "markdown",
   "metadata": {},
   "source": [
    "There is imbalance in few columns so the validation set is not getting split well. So, the scores are either exploding or vanishing."
   ]
  },
  {
   "cell_type": "code",
   "execution_count": 21,
   "metadata": {},
   "outputs": [
    {
     "name": "stdout",
     "output_type": "stream",
     "text": [
      "Linear Regression Cross validation scores: [ -1.35843932e+07   8.91520442e-01   9.43190307e-01]\n",
      "Average cross-validation scroe: -4528130.44\n"
     ]
    }
   ],
   "source": [
    "scaler = MinMaxScaler()\n",
    "X_btc_scaled = scaler.fit_transform(X_btc)\n",
    "\n",
    "scores = cross_val_score(linregscaled, X_btc_scaled, y_btc, cv = 3)\n",
    "print(\"Linear Regression Cross validation scores: {}\".format(scores))\n",
    "print(\"Average cross-validation scroe: {:.2f}\".format(scores.mean()))"
   ]
  },
  {
   "cell_type": "markdown",
   "metadata": {},
   "source": [
    "Let us use StratifiedKFold to do a better sampling for the trainset and try cross validation for Linear, Ridge and Lasso Regression."
   ]
  },
  {
   "cell_type": "code",
   "execution_count": 22,
   "metadata": {},
   "outputs": [
    {
     "name": "stdout",
     "output_type": "stream",
     "text": [
      "Cross validation scores: [ 0.99993844  0.99997168  0.9999332   0.99996974  0.99995336  0.99995582\n",
      "  0.99994977  0.99996111  0.99993436  0.99996415]\n",
      "Average CV scores for linear regression: 0.9999532\n",
      "Cross validation scores: [ 0.99991663  0.99995348  0.99989699  0.99995295  0.99993479  0.99992727\n",
      "  0.99992012  0.99992603  0.99988317  0.99993803]\n",
      "Average CV scores for Lasso Regression: 0.9999249\n",
      "Cross validation scores: [ 0.52502334  0.44038658  0.49270118  0.45464807  0.47380656  0.48490683\n",
      "  0.48722846  0.46804327  0.56600825  0.49163032]\n",
      "Average CV scores for Ridge Regression: 0.4884383\n"
     ]
    }
   ],
   "source": [
    "import warnings; warnings.simplefilter('ignore')\n",
    "\n",
    "scores = cross_val_score(linregscaled, X_btc_scaled, y_btc, cv = StratifiedKFold(10, shuffle = True, random_state = 10))\n",
    "print(\"Cross validation scores: {}\".format(scores))\n",
    "print(\"Average CV scores for linear regression: {:.7f}\".format(scores.mean()))\n",
    "\n",
    "scores = cross_val_score(linlasso, X_btc_scaled, y_btc, cv = StratifiedKFold(10, shuffle = True, random_state = 10))\n",
    "print(\"Cross validation scores: {}\".format(scores))\n",
    "print(\"Average CV scores for Lasso Regression: {:.7f}\".format(scores.mean()))\n",
    "\n",
    "scores = cross_val_score(linRidge, X_btc_scaled, y_btc, cv = StratifiedKFold(10, shuffle = True, random_state = 10))\n",
    "print(\"Cross validation scores: {}\".format(scores))\n",
    "print(\"Average CV scores for Ridge Regression: {:.7f}\".format(scores.mean()))"
   ]
  },
  {
   "cell_type": "markdown",
   "metadata": {},
   "source": [
    "The results from above are still not better than polynomial regression. So, let us run cross validation on different polynomial regression with plain, lasso and ridge. We can see normal polynomial regression and Lasso perform similar to each other."
   ]
  },
  {
   "cell_type": "code",
   "execution_count": 23,
   "metadata": {},
   "outputs": [
    {
     "name": "stdout",
     "output_type": "stream",
     "text": [
      "Cross validation scores: [ 0.99999431  0.99999794  0.99980874  0.99999694  0.99998308  0.99999631\n",
      "  0.99999876  0.99997682  0.99999757  0.99999326]\n",
      "Average CV scores for Polynomial Regression: 0.9999744\n",
      "Cross validation scores: [ 0.99979029  0.99993789  0.99989437  0.99992906  0.99988651  0.99991425\n",
      "  0.99988311  0.99987376  0.99976536  0.99991901]\n",
      "Average CV scores for Polynomial Ridge Regression: 0.9998794\n",
      "Cross validation scores: [ 0.99997257  0.99999194  0.99988746  0.99998296  0.99998335  0.99998568\n",
      "  0.99998848  0.99998839  0.99997876  0.99998259]\n",
      "Average CV scores for Polynomial Lasso Regression: 0.9999742\n"
     ]
    }
   ],
   "source": [
    "scores = cross_val_score(polyreg, X_poly_scaled, y_btc, cv = StratifiedKFold(10, shuffle = True, random_state = 10))\n",
    "print(\"Cross validation scores: {}\".format(scores))\n",
    "print(\"Average CV scores for Polynomial Regression: {:.7f}\".format(scores.mean()))\n",
    "\n",
    "scores = cross_val_score(polyRidgeReg, X_poly_scaled, y_btc, cv = StratifiedKFold(10, shuffle = True, random_state = 10))\n",
    "print(\"Cross validation scores: {}\".format(scores))\n",
    "print(\"Average CV scores for Polynomial Ridge Regression: {:.7f}\".format(scores.mean()))\n",
    "\n",
    "scores = cross_val_score(polyLassoReg, X_poly_scaled, y_btc, cv = StratifiedKFold(10, shuffle = True, random_state = 10))\n",
    "print(\"Cross validation scores: {}\".format(scores))\n",
    "print(\"Average CV scores for Polynomial Lasso Regression: {:.7f}\".format(scores.mean()))"
   ]
  },
  {
   "cell_type": "markdown",
   "metadata": {},
   "source": [
    "### Grid Search"
   ]
  },
  {
   "cell_type": "markdown",
   "metadata": {},
   "source": [
    "As with polynomial we will use a lot of features and Lasso is giving the same result. It is better to use Lasso for the prediction and we will use grid search to find the best value of alpha."
   ]
  },
  {
   "cell_type": "code",
   "execution_count": 24,
   "metadata": {},
   "outputs": [
    {
     "name": "stdout",
     "output_type": "stream",
     "text": [
      "Best parameters: {'alpha': 0.001}\n",
      "Best cross-validation score: 0.9999738\n"
     ]
    }
   ],
   "source": [
    "param_grid = {'alpha': [0.0001, 0.001, 0.01, 0.1, 1, 10, 100]}\n",
    "\n",
    "grid_search = GridSearchCV(polyLassoReg, param_grid, cv = StratifiedKFold(10, shuffle = True, random_state = 10))\n",
    "grid_search.fit(X_poly_scaled, y_btc)\n",
    "print(\"Best parameters: {}\".format(grid_search.best_params_))\n",
    "print(\"Best cross-validation score: {:.7f}\".format(grid_search.best_score_))"
   ]
  },
  {
   "cell_type": "markdown",
   "metadata": {},
   "source": [
    "Narrow down the search near 0.001 to find a better value of alpha."
   ]
  },
  {
   "cell_type": "code",
   "execution_count": null,
   "metadata": {
    "collapsed": true
   },
   "outputs": [],
   "source": [
    "#SVM\n",
    "\n",
    "X_train, X_test, y_train, y_test = train_test_split(X_btc, y_btc, random_state = 1, test_size = 0.3)\n",
    "scaler = MinMaxScaler()\n",
    "X_train_scaled = scaler.fit_transform(X_train)\n",
    "X_test_scaled = scaler.transform(X_test)\n",
    "\n",
    "svr = SVR(kernel = 'linear', epsilon = 0.001, C = 0.01)\n",
    "svr.fit(X_train_scaled, y_train)\n",
    "print(svr.score(X_train_scaled, y_train))\n",
    "print(svr.score(X_test_scaled, y_test))\n",
    "\n",
    "svr = SVR(kernel = 'rbf', gamma = 'auto', epsilon = 0.001, C = 0.01)\n",
    "svr.fit(X_train_scaled, y_train)\n",
    "print(svr.score(X_train_scaled, y_train))\n",
    "print(svr.score(X_test_scaled, y_test))"
   ]
  },
  {
   "cell_type": "markdown",
   "metadata": {},
   "source": [
    "## Final Test Predicted values"
   ]
  },
  {
   "cell_type": "code",
   "execution_count": 26,
   "metadata": {},
   "outputs": [
    {
     "data": {
      "text/plain": [
       "array([ 9098.36962207,  8890.27313482,  9056.63914595,  8353.09036084,\n",
       "        6856.27035561,  7729.53489147,  8121.90046824,  8218.75001632,\n",
       "        8540.27780178,  8294.12887566,  8249.77539193,  8798.24372724,\n",
       "        8575.32939417,  9302.16244325])"
      ]
     },
     "execution_count": 26,
     "metadata": {},
     "output_type": "execute_result"
    }
   ],
   "source": [
    "poly = PolynomialFeatures(degree=2)\n",
    "X_F1_poly = poly.fit_transform(X_btc)\n",
    "X_test_poly = poly.fit_transform(test)\n",
    "\n",
    "scaler = MinMaxScaler()\n",
    "X_poly_scaled = scaler.fit_transform(X_F1_poly)\n",
    "\n",
    "polyReg = Lasso(alpha = 0.0012).fit(X_poly_scaled, y_btc)\n",
    "\n",
    "Final_test_scaled = scaler.transform(X_test_poly)\n",
    "polyReg.predict(Final_test_scaled)"
   ]
  },
  {
   "cell_type": "markdown",
   "metadata": {},
   "source": [
    "We are also putting results for Linear Regression so we can also consider those values for better decision making."
   ]
  },
  {
   "cell_type": "code",
   "execution_count": 28,
   "metadata": {},
   "outputs": [
    {
     "data": {
      "text/plain": [
       "array([ 9055.47431763,  8885.14503739,  9072.52202184,  8398.82755224,\n",
       "        6764.01683173,  7596.31061089,  8075.42448488,  8261.07477067,\n",
       "        8553.80831845,  8302.0488087 ,  8357.18318765,  8779.1696048 ,\n",
       "        8557.60914925,  9281.00049645])"
      ]
     },
     "execution_count": 28,
     "metadata": {},
     "output_type": "execute_result"
    }
   ],
   "source": [
    "scaler = MinMaxScaler()\n",
    "X_train = scaler.fit_transform(X_btc)\n",
    "\n",
    "test_scale = scaler.transform(test)\n",
    "linregscaled.predict(test_scale)"
   ]
  },
  {
   "cell_type": "code",
   "execution_count": 31,
   "metadata": {},
   "outputs": [
    {
     "data": {
      "text/plain": [
       "(14, 22)"
      ]
     },
     "execution_count": 31,
     "metadata": {},
     "output_type": "execute_result"
    }
   ],
   "source": [
    "test.shape"
   ]
  },
  {
   "cell_type": "code",
   "execution_count": 32,
   "metadata": {},
   "outputs": [
    {
     "data": {
      "text/plain": [
       "(2906, 22)"
      ]
     },
     "execution_count": 32,
     "metadata": {},
     "output_type": "execute_result"
    }
   ],
   "source": [
    "X_btc.shape"
   ]
  },
  {
   "cell_type": "code",
   "execution_count": 33,
   "metadata": {},
   "outputs": [
    {
     "data": {
      "text/plain": [
       "(2906, 22)"
      ]
     },
     "execution_count": 33,
     "metadata": {},
     "output_type": "execute_result"
    }
   ],
   "source": [
    "X_train.shape"
   ]
  },
  {
   "cell_type": "code",
   "execution_count": 35,
   "metadata": {},
   "outputs": [
    {
     "data": {
      "text/plain": [
       "array([[  0.00000000e+00,   0.00000000e+00,   0.00000000e+00, ...,\n",
       "          1.28350013e-03,   6.26482925e-03,   0.00000000e+00],\n",
       "       [  7.73936914e-04,   0.00000000e+00,   0.00000000e+00, ...,\n",
       "          2.77513153e-04,   1.27140343e-03,   0.00000000e+00],\n",
       "       [  1.37889197e-03,   0.00000000e+00,   0.00000000e+00, ...,\n",
       "          7.82841369e-05,   1.18968752e-04,   0.00000000e+00],\n",
       "       ..., \n",
       "       [  9.99760046e-01,   5.78072123e-01,   1.14184971e-01, ...,\n",
       "          4.20757578e-02,   2.75620739e-02,   3.12534986e-01],\n",
       "       [  9.99901146e-01,   5.25108338e-01,   2.36599485e-01, ...,\n",
       "          5.11790013e-02,   2.96561472e-02,   3.05430709e-01],\n",
       "       [  1.00000000e+00,   5.22110099e-01,   1.74371650e-01, ...,\n",
       "          3.86977706e-02,   2.74435556e-02,   2.81005197e-01]])"
      ]
     },
     "execution_count": 35,
     "metadata": {},
     "output_type": "execute_result"
    }
   ],
   "source": [
    "X_train"
   ]
  },
  {
   "cell_type": "code",
   "execution_count": 36,
   "metadata": {},
   "outputs": [
    {
     "data": {
      "text/html": [
       "<div>\n",
       "<style>\n",
       "    .dataframe thead tr:only-child th {\n",
       "        text-align: right;\n",
       "    }\n",
       "\n",
       "    .dataframe thead th {\n",
       "        text-align: left;\n",
       "    }\n",
       "\n",
       "    .dataframe tbody tr th {\n",
       "        vertical-align: top;\n",
       "    }\n",
       "</style>\n",
       "<table border=\"1\" class=\"dataframe\">\n",
       "  <thead>\n",
       "    <tr style=\"text-align: right;\">\n",
       "      <th></th>\n",
       "      <th>total_bitcoins</th>\n",
       "      <th>market_cap</th>\n",
       "      <th>trade_volume</th>\n",
       "      <th>blocks_size</th>\n",
       "      <th>avg_block_size</th>\n",
       "      <th>n_orphaned_blocks</th>\n",
       "      <th>n_transactions_per_block</th>\n",
       "      <th>median_confirmation_time</th>\n",
       "      <th>hash_rate</th>\n",
       "      <th>difficulty</th>\n",
       "      <th>...</th>\n",
       "      <th>cost_per_transaction_percent</th>\n",
       "      <th>cost_per_transaction</th>\n",
       "      <th>n_unique_addresses</th>\n",
       "      <th>n_transactions</th>\n",
       "      <th>n_transactions_total</th>\n",
       "      <th>n_transactions_excluding_popular</th>\n",
       "      <th>n_transactions_excluding_chains_longer_than_100</th>\n",
       "      <th>output_volume</th>\n",
       "      <th>estimated_transaction_volume</th>\n",
       "      <th>estimated_transaction_volume_usd</th>\n",
       "    </tr>\n",
       "  </thead>\n",
       "  <tbody>\n",
       "    <tr>\n",
       "      <th>0</th>\n",
       "      <td>16839687.5</td>\n",
       "      <td>1.529590e+11</td>\n",
       "      <td>1.509688e+09</td>\n",
       "      <td>154613.2244</td>\n",
       "      <td>1.053963</td>\n",
       "      <td>0</td>\n",
       "      <td>1610.400000</td>\n",
       "      <td>12.475000</td>\n",
       "      <td>20703947.91</td>\n",
       "      <td>2.603080e+12</td>\n",
       "      <td>...</td>\n",
       "      <td>0.799509</td>\n",
       "      <td>78.049647</td>\n",
       "      <td>591550</td>\n",
       "      <td>257664</td>\n",
       "      <td>296946448</td>\n",
       "      <td>249466</td>\n",
       "      <td>179686</td>\n",
       "      <td>2.190613e+06</td>\n",
       "      <td>276923.32070</td>\n",
       "      <td>2.515366e+09</td>\n",
       "    </tr>\n",
       "    <tr>\n",
       "      <th>1</th>\n",
       "      <td>16841787.5</td>\n",
       "      <td>1.499240e+11</td>\n",
       "      <td>2.213437e+09</td>\n",
       "      <td>154785.0008</td>\n",
       "      <td>1.022479</td>\n",
       "      <td>0</td>\n",
       "      <td>1404.273810</td>\n",
       "      <td>11.225000</td>\n",
       "      <td>21739145.31</td>\n",
       "      <td>2.603080e+12</td>\n",
       "      <td>...</td>\n",
       "      <td>0.717894</td>\n",
       "      <td>89.591902</td>\n",
       "      <td>551198</td>\n",
       "      <td>235918</td>\n",
       "      <td>297182366</td>\n",
       "      <td>229894</td>\n",
       "      <td>155128</td>\n",
       "      <td>1.460796e+06</td>\n",
       "      <td>330740.21920</td>\n",
       "      <td>2.944217e+09</td>\n",
       "    </tr>\n",
       "    <tr>\n",
       "      <th>2</th>\n",
       "      <td>16843762.5</td>\n",
       "      <td>1.528850e+11</td>\n",
       "      <td>9.524038e+08</td>\n",
       "      <td>154942.4583</td>\n",
       "      <td>0.996567</td>\n",
       "      <td>0</td>\n",
       "      <td>1233.487342</td>\n",
       "      <td>10.475000</td>\n",
       "      <td>20445148.56</td>\n",
       "      <td>2.603080e+12</td>\n",
       "      <td>...</td>\n",
       "      <td>1.290914</td>\n",
       "      <td>98.824757</td>\n",
       "      <td>436196</td>\n",
       "      <td>194891</td>\n",
       "      <td>297377257</td>\n",
       "      <td>184856</td>\n",
       "      <td>131568</td>\n",
       "      <td>9.100425e+05</td>\n",
       "      <td>164374.02440</td>\n",
       "      <td>1.491970e+09</td>\n",
       "    </tr>\n",
       "    <tr>\n",
       "      <th>3</th>\n",
       "      <td>16845987.5</td>\n",
       "      <td>1.415170e+11</td>\n",
       "      <td>1.080683e+09</td>\n",
       "      <td>155118.7652</td>\n",
       "      <td>0.990488</td>\n",
       "      <td>0</td>\n",
       "      <td>975.769663</td>\n",
       "      <td>9.275000</td>\n",
       "      <td>23033142.05</td>\n",
       "      <td>2.603080e+12</td>\n",
       "      <td>...</td>\n",
       "      <td>1.208997</td>\n",
       "      <td>112.999677</td>\n",
       "      <td>396694</td>\n",
       "      <td>173687</td>\n",
       "      <td>297550944</td>\n",
       "      <td>165753</td>\n",
       "      <td>125143</td>\n",
       "      <td>9.722485e+05</td>\n",
       "      <td>193244.21400</td>\n",
       "      <td>1.623377e+09</td>\n",
       "    </tr>\n",
       "    <tr>\n",
       "      <th>4</th>\n",
       "      <td>16848300.0</td>\n",
       "      <td>1.152220e+11</td>\n",
       "      <td>1.793319e+09</td>\n",
       "      <td>155322.7709</td>\n",
       "      <td>1.102733</td>\n",
       "      <td>0</td>\n",
       "      <td>1169.529730</td>\n",
       "      <td>6.133333</td>\n",
       "      <td>23938939.78</td>\n",
       "      <td>2.603080e+12</td>\n",
       "      <td>...</td>\n",
       "      <td>0.967008</td>\n",
       "      <td>78.586115</td>\n",
       "      <td>486553</td>\n",
       "      <td>216363</td>\n",
       "      <td>297767307</td>\n",
       "      <td>208757</td>\n",
       "      <td>144850</td>\n",
       "      <td>1.848913e+06</td>\n",
       "      <td>257109.29930</td>\n",
       "      <td>1.758323e+09</td>\n",
       "    </tr>\n",
       "    <tr>\n",
       "      <th>5</th>\n",
       "      <td>16850425.0</td>\n",
       "      <td>1.295060e+11</td>\n",
       "      <td>3.094258e+09</td>\n",
       "      <td>155504.2500</td>\n",
       "      <td>1.067524</td>\n",
       "      <td>0</td>\n",
       "      <td>1436.000000</td>\n",
       "      <td>7.433333</td>\n",
       "      <td>24293141.32</td>\n",
       "      <td>2.607870e+12</td>\n",
       "      <td>...</td>\n",
       "      <td>0.800015</td>\n",
       "      <td>72.073119</td>\n",
       "      <td>589896</td>\n",
       "      <td>244120</td>\n",
       "      <td>298011427</td>\n",
       "      <td>238351</td>\n",
       "      <td>164738</td>\n",
       "      <td>1.914333e+06</td>\n",
       "      <td>286153.34030</td>\n",
       "      <td>2.199270e+09</td>\n",
       "    </tr>\n",
       "    <tr>\n",
       "      <th>6</th>\n",
       "      <td>16852187.5</td>\n",
       "      <td>1.365020e+11</td>\n",
       "      <td>1.670288e+09</td>\n",
       "      <td>155655.3629</td>\n",
       "      <td>1.071722</td>\n",
       "      <td>0</td>\n",
       "      <td>1515.737589</td>\n",
       "      <td>8.866667</td>\n",
       "      <td>20149017.21</td>\n",
       "      <td>2.874670e+12</td>\n",
       "      <td>...</td>\n",
       "      <td>0.905838</td>\n",
       "      <td>71.480272</td>\n",
       "      <td>489402</td>\n",
       "      <td>213719</td>\n",
       "      <td>298225146</td>\n",
       "      <td>205988</td>\n",
       "      <td>144287</td>\n",
       "      <td>1.160112e+06</td>\n",
       "      <td>208207.33170</td>\n",
       "      <td>1.686471e+09</td>\n",
       "    </tr>\n",
       "    <tr>\n",
       "      <th>7</th>\n",
       "      <td>16853825.0</td>\n",
       "      <td>1.388850e+11</td>\n",
       "      <td>1.336662e+09</td>\n",
       "      <td>155792.6909</td>\n",
       "      <td>1.048305</td>\n",
       "      <td>0</td>\n",
       "      <td>1322.816794</td>\n",
       "      <td>13.675000</td>\n",
       "      <td>18720008.90</td>\n",
       "      <td>2.874670e+12</td>\n",
       "      <td>...</td>\n",
       "      <td>0.805963</td>\n",
       "      <td>82.053232</td>\n",
       "      <td>398607</td>\n",
       "      <td>173289</td>\n",
       "      <td>298398435</td>\n",
       "      <td>166517</td>\n",
       "      <td>126556</td>\n",
       "      <td>1.171510e+06</td>\n",
       "      <td>214089.82690</td>\n",
       "      <td>1.764215e+09</td>\n",
       "    </tr>\n",
       "    <tr>\n",
       "      <th>8</th>\n",
       "      <td>16855512.5</td>\n",
       "      <td>1.438710e+11</td>\n",
       "      <td>1.093135e+09</td>\n",
       "      <td>155937.9769</td>\n",
       "      <td>1.076193</td>\n",
       "      <td>0</td>\n",
       "      <td>1317.481481</td>\n",
       "      <td>12.200000</td>\n",
       "      <td>19291612.22</td>\n",
       "      <td>2.874670e+12</td>\n",
       "      <td>...</td>\n",
       "      <td>0.890279</td>\n",
       "      <td>85.223878</td>\n",
       "      <td>462086</td>\n",
       "      <td>177860</td>\n",
       "      <td>298576295</td>\n",
       "      <td>173698</td>\n",
       "      <td>131499</td>\n",
       "      <td>1.144163e+06</td>\n",
       "      <td>199472.83090</td>\n",
       "      <td>1.702604e+09</td>\n",
       "    </tr>\n",
       "    <tr>\n",
       "      <th>9</th>\n",
       "      <td>16857300.0</td>\n",
       "      <td>1.402510e+11</td>\n",
       "      <td>9.185402e+08</td>\n",
       "      <td>156085.9522</td>\n",
       "      <td>1.034792</td>\n",
       "      <td>0</td>\n",
       "      <td>1271.209790</td>\n",
       "      <td>9.450000</td>\n",
       "      <td>20434818.87</td>\n",
       "      <td>2.874670e+12</td>\n",
       "      <td>...</td>\n",
       "      <td>1.614559</td>\n",
       "      <td>85.874632</td>\n",
       "      <td>421547</td>\n",
       "      <td>181783</td>\n",
       "      <td>298758078</td>\n",
       "      <td>177603</td>\n",
       "      <td>133091</td>\n",
       "      <td>1.537986e+06</td>\n",
       "      <td>116211.04860</td>\n",
       "      <td>9.668616e+08</td>\n",
       "    </tr>\n",
       "    <tr>\n",
       "      <th>10</th>\n",
       "      <td>16859187.5</td>\n",
       "      <td>1.406640e+11</td>\n",
       "      <td>7.963917e+08</td>\n",
       "      <td>156237.9970</td>\n",
       "      <td>1.006919</td>\n",
       "      <td>0</td>\n",
       "      <td>974.887417</td>\n",
       "      <td>7.533333</td>\n",
       "      <td>21578025.52</td>\n",
       "      <td>2.874670e+12</td>\n",
       "      <td>...</td>\n",
       "      <td>2.272316</td>\n",
       "      <td>110.491753</td>\n",
       "      <td>368624</td>\n",
       "      <td>147208</td>\n",
       "      <td>298905286</td>\n",
       "      <td>144165</td>\n",
       "      <td>108927</td>\n",
       "      <td>1.398605e+06</td>\n",
       "      <td>85791.95132</td>\n",
       "      <td>7.158013e+08</td>\n",
       "    </tr>\n",
       "    <tr>\n",
       "      <th>11</th>\n",
       "      <td>16861262.5</td>\n",
       "      <td>1.485700e+11</td>\n",
       "      <td>8.366237e+08</td>\n",
       "      <td>156410.8514</td>\n",
       "      <td>1.041292</td>\n",
       "      <td>0</td>\n",
       "      <td>1126.012048</td>\n",
       "      <td>10.200000</td>\n",
       "      <td>23721537.99</td>\n",
       "      <td>2.874670e+12</td>\n",
       "      <td>...</td>\n",
       "      <td>1.184872</td>\n",
       "      <td>101.114203</td>\n",
       "      <td>437380</td>\n",
       "      <td>186918</td>\n",
       "      <td>299092204</td>\n",
       "      <td>183345</td>\n",
       "      <td>133062</td>\n",
       "      <td>1.674742e+06</td>\n",
       "      <td>181029.65410</td>\n",
       "      <td>1.595114e+09</td>\n",
       "    </tr>\n",
       "    <tr>\n",
       "      <th>12</th>\n",
       "      <td>16863312.5</td>\n",
       "      <td>1.449870e+11</td>\n",
       "      <td>1.884544e+08</td>\n",
       "      <td>156580.2562</td>\n",
       "      <td>1.032956</td>\n",
       "      <td>0</td>\n",
       "      <td>1115.756098</td>\n",
       "      <td>11.050000</td>\n",
       "      <td>23435736.33</td>\n",
       "      <td>2.874670e+12</td>\n",
       "      <td>...</td>\n",
       "      <td>1.441899</td>\n",
       "      <td>99.544224</td>\n",
       "      <td>414749</td>\n",
       "      <td>182984</td>\n",
       "      <td>299275188</td>\n",
       "      <td>179616</td>\n",
       "      <td>128687</td>\n",
       "      <td>1.315763e+06</td>\n",
       "      <td>146929.34580</td>\n",
       "      <td>1.263264e+09</td>\n",
       "    </tr>\n",
       "    <tr>\n",
       "      <th>13</th>\n",
       "      <td>16865550.0</td>\n",
       "      <td>1.574340e+11</td>\n",
       "      <td>9.151655e+08</td>\n",
       "      <td>156762.0906</td>\n",
       "      <td>1.015835</td>\n",
       "      <td>0</td>\n",
       "      <td>1097.301676</td>\n",
       "      <td>10.225000</td>\n",
       "      <td>25579248.80</td>\n",
       "      <td>2.874670e+12</td>\n",
       "      <td>...</td>\n",
       "      <td>1.553881</td>\n",
       "      <td>109.366318</td>\n",
       "      <td>450367</td>\n",
       "      <td>196417</td>\n",
       "      <td>299471605</td>\n",
       "      <td>192621</td>\n",
       "      <td>140594</td>\n",
       "      <td>1.557017e+06</td>\n",
       "      <td>148097.50310</td>\n",
       "      <td>1.382436e+09</td>\n",
       "    </tr>\n",
       "  </tbody>\n",
       "</table>\n",
       "<p>14 rows × 22 columns</p>\n",
       "</div>"
      ],
      "text/plain": [
       "    total_bitcoins    market_cap  trade_volume  blocks_size  avg_block_size  \\\n",
       "0       16839687.5  1.529590e+11  1.509688e+09  154613.2244        1.053963   \n",
       "1       16841787.5  1.499240e+11  2.213437e+09  154785.0008        1.022479   \n",
       "2       16843762.5  1.528850e+11  9.524038e+08  154942.4583        0.996567   \n",
       "3       16845987.5  1.415170e+11  1.080683e+09  155118.7652        0.990488   \n",
       "4       16848300.0  1.152220e+11  1.793319e+09  155322.7709        1.102733   \n",
       "5       16850425.0  1.295060e+11  3.094258e+09  155504.2500        1.067524   \n",
       "6       16852187.5  1.365020e+11  1.670288e+09  155655.3629        1.071722   \n",
       "7       16853825.0  1.388850e+11  1.336662e+09  155792.6909        1.048305   \n",
       "8       16855512.5  1.438710e+11  1.093135e+09  155937.9769        1.076193   \n",
       "9       16857300.0  1.402510e+11  9.185402e+08  156085.9522        1.034792   \n",
       "10      16859187.5  1.406640e+11  7.963917e+08  156237.9970        1.006919   \n",
       "11      16861262.5  1.485700e+11  8.366237e+08  156410.8514        1.041292   \n",
       "12      16863312.5  1.449870e+11  1.884544e+08  156580.2562        1.032956   \n",
       "13      16865550.0  1.574340e+11  9.151655e+08  156762.0906        1.015835   \n",
       "\n",
       "    n_orphaned_blocks  n_transactions_per_block  median_confirmation_time  \\\n",
       "0                   0               1610.400000                 12.475000   \n",
       "1                   0               1404.273810                 11.225000   \n",
       "2                   0               1233.487342                 10.475000   \n",
       "3                   0                975.769663                  9.275000   \n",
       "4                   0               1169.529730                  6.133333   \n",
       "5                   0               1436.000000                  7.433333   \n",
       "6                   0               1515.737589                  8.866667   \n",
       "7                   0               1322.816794                 13.675000   \n",
       "8                   0               1317.481481                 12.200000   \n",
       "9                   0               1271.209790                  9.450000   \n",
       "10                  0                974.887417                  7.533333   \n",
       "11                  0               1126.012048                 10.200000   \n",
       "12                  0               1115.756098                 11.050000   \n",
       "13                  0               1097.301676                 10.225000   \n",
       "\n",
       "      hash_rate    difficulty                ...                 \\\n",
       "0   20703947.91  2.603080e+12                ...                  \n",
       "1   21739145.31  2.603080e+12                ...                  \n",
       "2   20445148.56  2.603080e+12                ...                  \n",
       "3   23033142.05  2.603080e+12                ...                  \n",
       "4   23938939.78  2.603080e+12                ...                  \n",
       "5   24293141.32  2.607870e+12                ...                  \n",
       "6   20149017.21  2.874670e+12                ...                  \n",
       "7   18720008.90  2.874670e+12                ...                  \n",
       "8   19291612.22  2.874670e+12                ...                  \n",
       "9   20434818.87  2.874670e+12                ...                  \n",
       "10  21578025.52  2.874670e+12                ...                  \n",
       "11  23721537.99  2.874670e+12                ...                  \n",
       "12  23435736.33  2.874670e+12                ...                  \n",
       "13  25579248.80  2.874670e+12                ...                  \n",
       "\n",
       "    cost_per_transaction_percent  cost_per_transaction  n_unique_addresses  \\\n",
       "0                       0.799509             78.049647              591550   \n",
       "1                       0.717894             89.591902              551198   \n",
       "2                       1.290914             98.824757              436196   \n",
       "3                       1.208997            112.999677              396694   \n",
       "4                       0.967008             78.586115              486553   \n",
       "5                       0.800015             72.073119              589896   \n",
       "6                       0.905838             71.480272              489402   \n",
       "7                       0.805963             82.053232              398607   \n",
       "8                       0.890279             85.223878              462086   \n",
       "9                       1.614559             85.874632              421547   \n",
       "10                      2.272316            110.491753              368624   \n",
       "11                      1.184872            101.114203              437380   \n",
       "12                      1.441899             99.544224              414749   \n",
       "13                      1.553881            109.366318              450367   \n",
       "\n",
       "    n_transactions  n_transactions_total  n_transactions_excluding_popular  \\\n",
       "0           257664             296946448                            249466   \n",
       "1           235918             297182366                            229894   \n",
       "2           194891             297377257                            184856   \n",
       "3           173687             297550944                            165753   \n",
       "4           216363             297767307                            208757   \n",
       "5           244120             298011427                            238351   \n",
       "6           213719             298225146                            205988   \n",
       "7           173289             298398435                            166517   \n",
       "8           177860             298576295                            173698   \n",
       "9           181783             298758078                            177603   \n",
       "10          147208             298905286                            144165   \n",
       "11          186918             299092204                            183345   \n",
       "12          182984             299275188                            179616   \n",
       "13          196417             299471605                            192621   \n",
       "\n",
       "    n_transactions_excluding_chains_longer_than_100  output_volume  \\\n",
       "0                                            179686   2.190613e+06   \n",
       "1                                            155128   1.460796e+06   \n",
       "2                                            131568   9.100425e+05   \n",
       "3                                            125143   9.722485e+05   \n",
       "4                                            144850   1.848913e+06   \n",
       "5                                            164738   1.914333e+06   \n",
       "6                                            144287   1.160112e+06   \n",
       "7                                            126556   1.171510e+06   \n",
       "8                                            131499   1.144163e+06   \n",
       "9                                            133091   1.537986e+06   \n",
       "10                                           108927   1.398605e+06   \n",
       "11                                           133062   1.674742e+06   \n",
       "12                                           128687   1.315763e+06   \n",
       "13                                           140594   1.557017e+06   \n",
       "\n",
       "    estimated_transaction_volume  estimated_transaction_volume_usd  \n",
       "0                   276923.32070                      2.515366e+09  \n",
       "1                   330740.21920                      2.944217e+09  \n",
       "2                   164374.02440                      1.491970e+09  \n",
       "3                   193244.21400                      1.623377e+09  \n",
       "4                   257109.29930                      1.758323e+09  \n",
       "5                   286153.34030                      2.199270e+09  \n",
       "6                   208207.33170                      1.686471e+09  \n",
       "7                   214089.82690                      1.764215e+09  \n",
       "8                   199472.83090                      1.702604e+09  \n",
       "9                   116211.04860                      9.668616e+08  \n",
       "10                   85791.95132                      7.158013e+08  \n",
       "11                  181029.65410                      1.595114e+09  \n",
       "12                  146929.34580                      1.263264e+09  \n",
       "13                  148097.50310                      1.382436e+09  \n",
       "\n",
       "[14 rows x 22 columns]"
      ]
     },
     "execution_count": 36,
     "metadata": {},
     "output_type": "execute_result"
    }
   ],
   "source": [
    "test"
   ]
  },
  {
   "cell_type": "code",
   "execution_count": null,
   "metadata": {
    "collapsed": true
   },
   "outputs": [],
   "source": []
  }
 ],
 "metadata": {
  "kernelspec": {
   "display_name": "Python 3",
   "language": "python",
   "name": "python3"
  },
  "language_info": {
   "codemirror_mode": {
    "name": "ipython",
    "version": 3
   },
   "file_extension": ".py",
   "mimetype": "text/x-python",
   "name": "python",
   "nbconvert_exporter": "python",
   "pygments_lexer": "ipython3",
   "version": "3.6.3"
  }
 },
 "nbformat": 4,
 "nbformat_minor": 2
}
